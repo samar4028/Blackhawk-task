{
 "cells": [
  {
   "cell_type": "markdown",
   "metadata": {},
   "source": [
    "# SARIMA(p,d,q)(P,D,Q)m\n",
    "# Seasonal Autoregressive Integrated Moving Averages\n",
    "We have finally reached one of the most fascinating aspects of time series analysis: seasonality.\n",
    "\n",
    "Where ARIMA accepts the parameters $(p,d,q)$, SARIMA accepts an <em>additional</em> set of parameters $(P,D,Q)m$ that specifically describe the seasonal components of the model. Here $P$, $D$ and $Q$ represent the seasonal regression, differencing and moving average coefficients, and $m$ represents the number of data points (rows) in each seasonal cycle.\n",
    "\n",
    "<strong>NOTE:</strong> The statsmodels implementation of SARIMA is called SARIMAX. The “X” added to the name means that the function also supports <em>exogenous</em> regressor variables. We'll cover these in the next section.\n",
    "\n",
    "\n",
    "<div class=\"alert alert-info\"><h3>Related Functions:</h3>\n",
    "<tt><strong>\n",
    "<a href='https://www.statsmodels.org/stable/generated/statsmodels.tsa.statespace.sarimax.SARIMAX.html'>sarimax.SARIMAX</a></strong><font color=black>(endog[, exog, order, …])</font>&nbsp;&nbsp;&nbsp;&nbsp;&nbsp;&nbsp;&nbsp;<br>\n",
    "<strong><a href='https://www.statsmodels.org/stable/generated/statsmodels.tsa.vector_ar.var_model.VARResults.html'>sarimax.SARIMAXResults</a></strong><font color=black>(model, params, …[, …])</font>&nbsp;&nbsp;Class to hold results from fitting a SARIMAX model.</tt>\n",
    "\n",
    "<h3>For Further Reading:</h3>\n",
    "<strong>\n",
    "<a href='https://www.statsmodels.org/stable/statespace.html'>Statsmodels Tutorial:</a></strong>&nbsp;&nbsp;<font color=black>Time Series Analysis by State Space Methods</font></div>"
   ]
  },
  {
   "cell_type": "code",
   "execution_count": 64,
   "metadata": {},
   "outputs": [
    {
     "name": "stdout",
     "output_type": "stream",
     "text": [
      "Requirement already satisfied: pmdarima in c:\\users\\singhs119\\anaconda3\\lib\\site-packages (1.8.0)\n",
      "Requirement already satisfied: urllib3 in c:\\users\\singhs119\\anaconda3\\lib\\site-packages (from pmdarima) (1.25.11)\n",
      "Requirement already satisfied: numpy>=1.17.3 in c:\\users\\singhs119\\anaconda3\\lib\\site-packages (from pmdarima) (1.19.2)\n",
      "Requirement already satisfied: Cython<0.29.18,>=0.29 in c:\\users\\singhs119\\anaconda3\\lib\\site-packages (from pmdarima) (0.29.17)\n",
      "Requirement already satisfied: setuptools!=50.0.0,>=38.6.0 in c:\\users\\singhs119\\anaconda3\\lib\\site-packages (from pmdarima) (50.3.1.post20201107)\n",
      "Requirement already satisfied: statsmodels!=0.12.0,>=0.11 in c:\\users\\singhs119\\anaconda3\\lib\\site-packages (from pmdarima) (0.12.1)\n",
      "Requirement already satisfied: scikit-learn>=0.22 in c:\\users\\singhs119\\anaconda3\\lib\\site-packages (from pmdarima) (0.23.2)\n",
      "Requirement already satisfied: scipy>=1.3.2 in c:\\users\\singhs119\\anaconda3\\lib\\site-packages (from pmdarima) (1.5.2)\n",
      "Requirement already satisfied: pandas>=0.19 in c:\\users\\singhs119\\anaconda3\\lib\\site-packages (from pmdarima) (1.1.3)\n",
      "Requirement already satisfied: joblib>=0.11 in c:\\users\\singhs119\\anaconda3\\lib\\site-packages (from pmdarima) (0.17.0)\n",
      "Requirement already satisfied: patsy>=0.5 in c:\\users\\singhs119\\anaconda3\\lib\\site-packages (from statsmodels!=0.12.0,>=0.11->pmdarima) (0.5.1)\n",
      "Requirement already satisfied: threadpoolctl>=2.0.0 in c:\\users\\singhs119\\anaconda3\\lib\\site-packages (from scikit-learn>=0.22->pmdarima) (2.1.0)\n",
      "Requirement already satisfied: pytz>=2017.2 in c:\\users\\singhs119\\anaconda3\\lib\\site-packages (from pandas>=0.19->pmdarima) (2020.1)\n",
      "Requirement already satisfied: python-dateutil>=2.7.3 in c:\\users\\singhs119\\anaconda3\\lib\\site-packages (from pandas>=0.19->pmdarima) (2.8.1)\n",
      "Requirement already satisfied: six in c:\\users\\singhs119\\anaconda3\\lib\\site-packages (from patsy>=0.5->statsmodels!=0.12.0,>=0.11->pmdarima) (1.15.0)\n"
     ]
    }
   ],
   "source": [
    "!pip install pmdarima"
   ]
  },
  {
   "cell_type": "code",
   "execution_count": 75,
   "metadata": {},
   "outputs": [
    {
     "data": {
      "text/html": [
       "<div>\n",
       "<style scoped>\n",
       "    .dataframe tbody tr th:only-of-type {\n",
       "        vertical-align: middle;\n",
       "    }\n",
       "\n",
       "    .dataframe tbody tr th {\n",
       "        vertical-align: top;\n",
       "    }\n",
       "\n",
       "    .dataframe thead th {\n",
       "        text-align: right;\n",
       "    }\n",
       "</style>\n",
       "<table border=\"1\" class=\"dataframe\">\n",
       "  <thead>\n",
       "    <tr style=\"text-align: right;\">\n",
       "      <th></th>\n",
       "      <th>Date</th>\n",
       "      <th>Transaction</th>\n",
       "      <th>Count</th>\n",
       "    </tr>\n",
       "  </thead>\n",
       "  <tbody>\n",
       "    <tr>\n",
       "      <th>0</th>\n",
       "      <td>2016-01-01</td>\n",
       "      <td>00:00:00</td>\n",
       "      <td>2093576</td>\n",
       "    </tr>\n",
       "    <tr>\n",
       "      <th>1</th>\n",
       "      <td>2016-02-01</td>\n",
       "      <td>00:00:00</td>\n",
       "      <td>2397260</td>\n",
       "    </tr>\n",
       "    <tr>\n",
       "      <th>2</th>\n",
       "      <td>2016-03-01</td>\n",
       "      <td>00:00:00</td>\n",
       "      <td>2173039</td>\n",
       "    </tr>\n",
       "    <tr>\n",
       "      <th>3</th>\n",
       "      <td>2016-04-01</td>\n",
       "      <td>00:00:00</td>\n",
       "      <td>2051240</td>\n",
       "    </tr>\n",
       "    <tr>\n",
       "      <th>4</th>\n",
       "      <td>2016-05-01</td>\n",
       "      <td>00:00:00</td>\n",
       "      <td>1954117</td>\n",
       "    </tr>\n",
       "  </tbody>\n",
       "</table>\n",
       "</div>"
      ],
      "text/plain": [
       "        Date Transaction    Count\n",
       "0 2016-01-01    00:00:00  2093576\n",
       "1 2016-02-01    00:00:00  2397260\n",
       "2 2016-03-01    00:00:00  2173039\n",
       "3 2016-04-01    00:00:00  2051240\n",
       "4 2016-05-01    00:00:00  1954117"
      ]
     },
     "execution_count": 75,
     "metadata": {},
     "output_type": "execute_result"
    }
   ],
   "source": [
    "import pandas as pd\n",
    "import numpy as np\n",
    "%matplotlib inline\n",
    "\n",
    "# Load specific forecasting tools\n",
    "from statsmodels.tsa.statespace.sarimax import SARIMAX\n",
    "\n",
    "from statsmodels.graphics.tsaplots import plot_acf,plot_pacf # for determining (p,q) orders\n",
    "from statsmodels.tsa.seasonal import seasonal_decompose      # for ETS Plots\n",
    "from pmdarima import auto_arima                              # for determining ARIMA orders\n",
    "\n",
    "# Ignore harmless warnings\n",
    "import warnings\n",
    "warnings.filterwarnings(\"ignore\")\n",
    "\n",
    "# Load dataset\n",
    "df = pd.read_excel('TimeSeries.xlsx', parse_dates=['Date'])\n",
    "df.head()"
   ]
  },
  {
   "cell_type": "code",
   "execution_count": 76,
   "metadata": {},
   "outputs": [],
   "source": [
    "df.drop('Transaction',axis=1, inplace=True)"
   ]
  },
  {
   "cell_type": "code",
   "execution_count": 77,
   "metadata": {},
   "outputs": [
    {
     "data": {
      "image/png": "[encoded data removed]",
      "text/plain": [
       "<Figure size 864x432 with 1 Axes>"
      ]
     },
     "metadata": {
      "needs_background": "light"
     },
     "output_type": "display_data"
    }
   ],
   "source": [
    "title = 'Transactions'\n",
    "ylabel='Count'\n",
    "xlabel='' # we don't really need a label here\n",
    "\n",
    "ax = df['Count'].plot(figsize=(12,6),title=title)\n",
    "ax.autoscale(axis='x',tight=True)\n",
    "ax.set(xlabel=xlabel, ylabel=ylabel);"
   ]
  },
  {
   "cell_type": "markdown",
   "metadata": {},
   "source": [
    "its seasonal pattern..we will increase the granualarity for better understanding of pattern"
   ]
  },
  {
   "cell_type": "code",
   "execution_count": 86,
   "metadata": {},
   "outputs": [],
   "source": [
    "transactions = df.groupby(df['Date'].dt.strftime('%m-%Y'))['Count'].sum()\n",
    "transactions.index = pd.to_datetime(transactions.index)\n",
    "transactions=transactions.sort_index().to_frame()"
   ]
  },
  {
   "cell_type": "code",
   "execution_count": 87,
   "metadata": {},
   "outputs": [
    {
     "data": {
      "text/html": [
       "<div>\n",
       "<style scoped>\n",
       "    .dataframe tbody tr th:only-of-type {\n",
       "        vertical-align: middle;\n",
       "    }\n",
       "\n",
       "    .dataframe tbody tr th {\n",
       "        vertical-align: top;\n",
       "    }\n",
       "\n",
       "    .dataframe thead th {\n",
       "        text-align: right;\n",
       "    }\n",
       "</style>\n",
       "<table border=\"1\" class=\"dataframe\">\n",
       "  <thead>\n",
       "    <tr style=\"text-align: right;\">\n",
       "      <th></th>\n",
       "      <th>Count</th>\n",
       "    </tr>\n",
       "    <tr>\n",
       "      <th>Date</th>\n",
       "      <th></th>\n",
       "    </tr>\n",
       "  </thead>\n",
       "  <tbody>\n",
       "    <tr>\n",
       "      <th>2016-01-01</th>\n",
       "      <td>54954027</td>\n",
       "    </tr>\n",
       "    <tr>\n",
       "      <th>2016-02-01</th>\n",
       "      <td>47661978</td>\n",
       "    </tr>\n",
       "    <tr>\n",
       "      <th>2016-03-01</th>\n",
       "      <td>50721581</td>\n",
       "    </tr>\n",
       "    <tr>\n",
       "      <th>2016-04-01</th>\n",
       "      <td>47729994</td>\n",
       "    </tr>\n",
       "    <tr>\n",
       "      <th>2016-05-01</th>\n",
       "      <td>48938858</td>\n",
       "    </tr>\n",
       "  </tbody>\n",
       "</table>\n",
       "</div>"
      ],
      "text/plain": [
       "               Count\n",
       "Date                \n",
       "2016-01-01  54954027\n",
       "2016-02-01  47661978\n",
       "2016-03-01  50721581\n",
       "2016-04-01  47729994\n",
       "2016-05-01  48938858"
      ]
     },
     "execution_count": 87,
     "metadata": {},
     "output_type": "execute_result"
    }
   ],
   "source": [
    "transactions.head()"
   ]
  },
  {
   "cell_type": "code",
   "execution_count": 88,
   "metadata": {},
   "outputs": [
    {
     "data": {
      "image/png": "[encoded data removed]",
      "text/plain": [
       "<Figure size 432x288 with 4 Axes>"
      ]
     },
     "metadata": {
      "needs_background": "light"
     },
     "output_type": "display_data"
    }
   ],
   "source": [
    "result = seasonal_decompose(transactions['Count'], model='add')  # model='mul' also works\n",
    "result.plot();"
   ]
  },
  {
   "cell_type": "markdown",
   "metadata": {},
   "source": [
    "### Run <tt>pmdarima.auto_arima</tt> to obtain recommended orders\n",
    "This may take awhile as there are a lot more combinations to evaluate."
   ]
  },
  {
   "cell_type": "code",
   "execution_count": 127,
   "metadata": {},
   "outputs": [
    {
     "data": {
      "text/html": [
       "<table class=\"simpletable\">\n",
       "<caption>SARIMAX Results</caption>\n",
       "<tr>\n",
       "  <th>Dep. Variable:</th>                   <td>y</td>                <th>  No. Observations:  </th>    <td>48</td>   \n",
       "</tr>\n",
       "<tr>\n",
       "  <th>Model:</th>           <td>SARIMAX(1, 0, 0)x(0, 0, [1], 12)</td> <th>  Log Likelihood     </th> <td>-883.609</td>\n",
       "</tr>\n",
       "<tr>\n",
       "  <th>Date:</th>                    <td>Mon, 18 Jan 2021</td>         <th>  AIC                </th> <td>1775.219</td>\n",
       "</tr>\n",
       "<tr>\n",
       "  <th>Time:</th>                        <td>14:47:34</td>             <th>  BIC                </th> <td>1782.703</td>\n",
       "</tr>\n",
       "<tr>\n",
       "  <th>Sample:</th>                          <td>0</td>                <th>  HQIC               </th> <td>1778.047</td>\n",
       "</tr>\n",
       "<tr>\n",
       "  <th></th>                               <td> - 48</td>              <th>                     </th>     <td> </td>   \n",
       "</tr>\n",
       "<tr>\n",
       "  <th>Covariance Type:</th>                <td>opg</td>               <th>                     </th>     <td> </td>   \n",
       "</tr>\n",
       "</table>\n",
       "<table class=\"simpletable\">\n",
       "<tr>\n",
       "      <td></td>         <th>coef</th>     <th>std err</th>      <th>z</th>      <th>P>|z|</th>  <th>[0.025</th>    <th>0.975]</th>  \n",
       "</tr>\n",
       "<tr>\n",
       "  <th>intercept</th> <td> 3.404e+07</td> <td> 1.33e-09</td> <td> 2.55e+16</td> <td> 0.000</td> <td>  3.4e+07</td> <td>  3.4e+07</td>\n",
       "</tr>\n",
       "<tr>\n",
       "  <th>ar.L1</th>     <td>    0.4368</td> <td>    0.089</td> <td>    4.933</td> <td> 0.000</td> <td>    0.263</td> <td>    0.610</td>\n",
       "</tr>\n",
       "<tr>\n",
       "  <th>ma.S.L12</th>  <td>    0.4330</td> <td>    0.137</td> <td>    3.159</td> <td> 0.002</td> <td>    0.164</td> <td>    0.702</td>\n",
       "</tr>\n",
       "<tr>\n",
       "  <th>sigma2</th>    <td> 6.788e+14</td> <td>  3.7e-17</td> <td> 1.83e+31</td> <td> 0.000</td> <td> 6.79e+14</td> <td> 6.79e+14</td>\n",
       "</tr>\n",
       "</table>\n",
       "<table class=\"simpletable\">\n",
       "<tr>\n",
       "  <th>Ljung-Box (L1) (Q):</th>     <td>0.36</td> <th>  Jarque-Bera (JB):  </th> <td>37.44</td>\n",
       "</tr>\n",
       "<tr>\n",
       "  <th>Prob(Q):</th>                <td>0.55</td> <th>  Prob(JB):          </th> <td>0.00</td> \n",
       "</tr>\n",
       "<tr>\n",
       "  <th>Heteroskedasticity (H):</th> <td>3.96</td> <th>  Skew:              </th> <td>1.04</td> \n",
       "</tr>\n",
       "<tr>\n",
       "  <th>Prob(H) (two-sided):</th>    <td>0.01</td> <th>  Kurtosis:          </th> <td>6.80</td> \n",
       "</tr>\n",
       "</table><br/><br/>Warnings:<br/>[1] Covariance matrix calculated using the outer product of gradients (complex-step).<br/>[2] Covariance matrix is singular or near-singular, with condition number 1.49e+47. Standard errors may be unstable."
      ],
      "text/plain": [
       "<class 'statsmodels.iolib.summary.Summary'>\n",
       "\"\"\"\n",
       "                                      SARIMAX Results                                       \n",
       "============================================================================================\n",
       "Dep. Variable:                                    y   No. Observations:                   48\n",
       "Model:             SARIMAX(1, 0, 0)x(0, 0, [1], 12)   Log Likelihood                -883.609\n",
       "Date:                              Mon, 18 Jan 2021   AIC                           1775.219\n",
       "Time:                                      14:47:34   BIC                           1782.703\n",
       "Sample:                                           0   HQIC                          1778.047\n",
       "                                               - 48                                         \n",
       "Covariance Type:                                opg                                         \n",
       "==============================================================================\n",
       "                 coef    std err          z      P>|z|      [0.025      0.975]\n",
       "------------------------------------------------------------------------------\n",
       "intercept   3.404e+07   1.33e-09   2.55e+16      0.000     3.4e+07     3.4e+07\n",
       "ar.L1          0.4368      0.089      4.933      0.000       0.263       0.610\n",
       "ma.S.L12       0.4330      0.137      3.159      0.002       0.164       0.702\n",
       "sigma2      6.788e+14    3.7e-17   1.83e+31      0.000    6.79e+14    6.79e+14\n",
       "===================================================================================\n",
       "Ljung-Box (L1) (Q):                   0.36   Jarque-Bera (JB):                37.44\n",
       "Prob(Q):                              0.55   Prob(JB):                         0.00\n",
       "Heteroskedasticity (H):               3.96   Skew:                             1.04\n",
       "Prob(H) (two-sided):                  0.01   Kurtosis:                         6.80\n",
       "===================================================================================\n",
       "\n",
       "Warnings:\n",
       "[1] Covariance matrix calculated using the outer product of gradients (complex-step).\n",
       "[2] Covariance matrix is singular or near-singular, with condition number 1.49e+47. Standard errors may be unstable.\n",
       "\"\"\""
      ]
     },
     "execution_count": 127,
     "metadata": {},
     "output_type": "execute_result"
    }
   ],
   "source": [
    "# For SARIMA Orders we set seasonal=True and pass in an m value\n",
    "auto_arima(transactions['Count'],seasonal=True,m=12).summary()"
   ]
  },
  {
   "cell_type": "markdown",
   "metadata": {},
   "source": [
    "Excellent! This provides an ARIMA Order of (0,1,3) combined with a seasonal order of (1,0,1,12) Now let's train & test the SARIMA(0,1,3)(1,0,1,12) model, evaluate it, then produce a forecast of future values.\n",
    "### Split the data into train/test sets"
   ]
  },
  {
   "cell_type": "code",
   "execution_count": 91,
   "metadata": {},
   "outputs": [
    {
     "data": {
      "text/plain": [
       "1285"
      ]
     },
     "execution_count": 91,
     "metadata": {},
     "output_type": "execute_result"
    }
   ],
   "source": [
    "len(df)"
   ]
  },
  {
   "cell_type": "code",
   "execution_count": 94,
   "metadata": {},
   "outputs": [],
   "source": [
    "train = df.iloc[:920]\n",
    "test = df.iloc[920:]"
   ]
  },
  {
   "cell_type": "markdown",
   "metadata": {},
   "source": [
    "### Fit a SARIMA(0,1,3)(1,0,1,12) Model"
   ]
  },
  {
   "cell_type": "code",
   "execution_count": 95,
   "metadata": {},
   "outputs": [
    {
     "data": {
      "text/html": [
       "<table class=\"simpletable\">\n",
       "<caption>SARIMAX Results</caption>\n",
       "<tr>\n",
       "  <th>Dep. Variable:</th>                 <td>Count</td>              <th>  No. Observations:  </th>     <td>920</td>   \n",
       "</tr>\n",
       "<tr>\n",
       "  <th>Model:</th>           <td>SARIMAX(0, 1, 3)x(1, 0, [1], 12)</td> <th>  Log Likelihood     </th> <td>-13332.970</td>\n",
       "</tr>\n",
       "<tr>\n",
       "  <th>Date:</th>                    <td>Mon, 18 Jan 2021</td>         <th>  AIC                </th>  <td>26677.940</td>\n",
       "</tr>\n",
       "<tr>\n",
       "  <th>Time:</th>                        <td>13:44:21</td>             <th>  BIC                </th>  <td>26706.880</td>\n",
       "</tr>\n",
       "<tr>\n",
       "  <th>Sample:</th>                          <td>0</td>                <th>  HQIC               </th>  <td>26688.985</td>\n",
       "</tr>\n",
       "<tr>\n",
       "  <th></th>                              <td> - 920</td>              <th>                     </th>      <td> </td>    \n",
       "</tr>\n",
       "<tr>\n",
       "  <th>Covariance Type:</th>                <td>opg</td>               <th>                     </th>      <td> </td>    \n",
       "</tr>\n",
       "</table>\n",
       "<table class=\"simpletable\">\n",
       "<tr>\n",
       "      <td></td>        <th>coef</th>     <th>std err</th>      <th>z</th>      <th>P>|z|</th>  <th>[0.025</th>    <th>0.975]</th>  \n",
       "</tr>\n",
       "<tr>\n",
       "  <th>ma.L1</th>    <td>    0.0039</td> <td>    0.012</td> <td>    0.324</td> <td> 0.746</td> <td>   -0.020</td> <td>    0.028</td>\n",
       "</tr>\n",
       "<tr>\n",
       "  <th>ma.L2</th>    <td>   -0.2887</td> <td>    0.011</td> <td>  -25.904</td> <td> 0.000</td> <td>   -0.311</td> <td>   -0.267</td>\n",
       "</tr>\n",
       "<tr>\n",
       "  <th>ma.L3</th>    <td>   -0.1237</td> <td>    0.015</td> <td>   -8.217</td> <td> 0.000</td> <td>   -0.153</td> <td>   -0.094</td>\n",
       "</tr>\n",
       "<tr>\n",
       "  <th>ar.S.L12</th> <td>    0.3511</td> <td>    0.755</td> <td>    0.465</td> <td> 0.642</td> <td>   -1.129</td> <td>    1.831</td>\n",
       "</tr>\n",
       "<tr>\n",
       "  <th>ma.S.L12</th> <td>   -0.4168</td> <td>    0.747</td> <td>   -0.558</td> <td> 0.577</td> <td>   -1.880</td> <td>    1.046</td>\n",
       "</tr>\n",
       "<tr>\n",
       "  <th>sigma2</th>   <td> 2.414e+11</td> <td> 2.67e-11</td> <td> 9.03e+21</td> <td> 0.000</td> <td> 2.41e+11</td> <td> 2.41e+11</td>\n",
       "</tr>\n",
       "</table>\n",
       "<table class=\"simpletable\">\n",
       "<tr>\n",
       "  <th>Ljung-Box (L1) (Q):</th>     <td>0.00</td> <th>  Jarque-Bera (JB):  </th> <td>250642.22</td>\n",
       "</tr>\n",
       "<tr>\n",
       "  <th>Prob(Q):</th>                <td>0.99</td> <th>  Prob(JB):          </th>   <td>0.00</td>   \n",
       "</tr>\n",
       "<tr>\n",
       "  <th>Heteroskedasticity (H):</th> <td>7.72</td> <th>  Skew:              </th>   <td>-5.12</td>  \n",
       "</tr>\n",
       "<tr>\n",
       "  <th>Prob(H) (two-sided):</th>    <td>0.00</td> <th>  Kurtosis:          </th>   <td>83.26</td>  \n",
       "</tr>\n",
       "</table><br/><br/>Warnings:<br/>[1] Covariance matrix calculated using the outer product of gradients (complex-step).<br/>[2] Covariance matrix is singular or near-singular, with condition number 9.69e+36. Standard errors may be unstable."
      ],
      "text/plain": [
       "<class 'statsmodels.iolib.summary.Summary'>\n",
       "\"\"\"\n",
       "                                      SARIMAX Results                                       \n",
       "============================================================================================\n",
       "Dep. Variable:                                Count   No. Observations:                  920\n",
       "Model:             SARIMAX(0, 1, 3)x(1, 0, [1], 12)   Log Likelihood              -13332.970\n",
       "Date:                              Mon, 18 Jan 2021   AIC                          26677.940\n",
       "Time:                                      13:44:21   BIC                          26706.880\n",
       "Sample:                                           0   HQIC                         26688.985\n",
       "                                              - 920                                         \n",
       "Covariance Type:                                opg                                         \n",
       "==============================================================================\n",
       "                 coef    std err          z      P>|z|      [0.025      0.975]\n",
       "------------------------------------------------------------------------------\n",
       "ma.L1          0.0039      0.012      0.324      0.746      -0.020       0.028\n",
       "ma.L2         -0.2887      0.011    -25.904      0.000      -0.311      -0.267\n",
       "ma.L3         -0.1237      0.015     -8.217      0.000      -0.153      -0.094\n",
       "ar.S.L12       0.3511      0.755      0.465      0.642      -1.129       1.831\n",
       "ma.S.L12      -0.4168      0.747     -0.558      0.577      -1.880       1.046\n",
       "sigma2      2.414e+11   2.67e-11   9.03e+21      0.000    2.41e+11    2.41e+11\n",
       "===================================================================================\n",
       "Ljung-Box (L1) (Q):                   0.00   Jarque-Bera (JB):            250642.22\n",
       "Prob(Q):                              0.99   Prob(JB):                         0.00\n",
       "Heteroskedasticity (H):               7.72   Skew:                            -5.12\n",
       "Prob(H) (two-sided):                  0.00   Kurtosis:                        83.26\n",
       "===================================================================================\n",
       "\n",
       "Warnings:\n",
       "[1] Covariance matrix calculated using the outer product of gradients (complex-step).\n",
       "[2] Covariance matrix is singular or near-singular, with condition number 9.69e+36. Standard errors may be unstable.\n",
       "\"\"\""
      ]
     },
     "execution_count": 95,
     "metadata": {},
     "output_type": "execute_result"
    }
   ],
   "source": [
    "model = SARIMAX(train['Count'],order=(0,1,3),seasonal_order=(1,0,1,12))\n",
    "results = model.fit()\n",
    "results.summary()"
   ]
  },
  {
   "cell_type": "code",
   "execution_count": 99,
   "metadata": {},
   "outputs": [],
   "source": [
    "# Obtain predicted values\n",
    "start=len(train)\n",
    "end=len(train)+len(test)-1\n",
    "predictions = results.predict(start=start, end=end, dynamic=False, typ='levels').rename('SARIMA(0,1,3)(1,0,1,12) Predictions')"
   ]
  },
  {
   "cell_type": "code",
   "execution_count": 113,
   "metadata": {},
   "outputs": [
    {
     "data": {
      "text/plain": [
       "920     1.793295e+06\n",
       "921     1.867641e+06\n",
       "922     1.891211e+06\n",
       "923     1.925489e+06\n",
       "924     1.962324e+06\n",
       "            ...     \n",
       "1280    1.963866e+06\n",
       "1281    1.963866e+06\n",
       "1282    1.963866e+06\n",
       "1283    1.963866e+06\n",
       "1284    1.963866e+06\n",
       "Name: SARIMA(0,1,3)(1,0,1,12) Predictions, Length: 365, dtype: float64"
      ]
     },
     "execution_count": 113,
     "metadata": {},
     "output_type": "execute_result"
    }
   ],
   "source": [
    "predictions"
   ]
  },
  {
   "cell_type": "code",
   "execution_count": 116,
   "metadata": {},
   "outputs": [
    {
     "data": {
      "text/plain": [
       "1964257"
      ]
     },
     "execution_count": 116,
     "metadata": {},
     "output_type": "execute_result"
    }
   ],
   "source": [
    "test['Count'][920+1]"
   ]
  },
  {
   "cell_type": "code",
   "execution_count": 106,
   "metadata": {},
   "outputs": [
    {
     "data": {
      "text/plain": [
       "365"
      ]
     },
     "execution_count": 106,
     "metadata": {},
     "output_type": "execute_result"
    }
   ],
   "source": [
    "len(predictions)"
   ]
  },
  {
   "cell_type": "code",
   "execution_count": 117,
   "metadata": {},
   "outputs": [
    {
     "data": {
      "text/plain": [
       "1867641.1620388306"
      ]
     },
     "execution_count": 117,
     "metadata": {},
     "output_type": "execute_result"
    }
   ],
   "source": [
    "predictions[920+1]"
   ]
  },
  {
   "cell_type": "code",
   "execution_count": null,
   "metadata": {},
   "outputs": [],
   "source": []
  },
  {
   "cell_type": "markdown",
   "metadata": {},
   "source": [
    "Passing <tt>dynamic=False</tt> means that forecasts at each point are generated using the full history up to that point (all lagged values).\n",
    "\n",
    "Passing <tt>typ='levels'</tt> predicts the levels of the original endogenous variables. If we'd used the default <tt>typ='linear'</tt> we would have seen linear predictions in terms of the differenced endogenous variables.\n",
    "\n",
    "For more information on these arguments visit https://www.statsmodels.org/stable/generated/statsmodels.tsa.arima_model.ARIMAResults.predict.html"
   ]
  },
  {
   "cell_type": "code",
   "execution_count": 126,
   "metadata": {},
   "outputs": [
    {
     "name": "stdout",
     "output_type": "stream",
     "text": [
      "predicted=1793295.1196585621, expected=1888234\n",
      "predicted=1867641.1620388306, expected=1964257\n",
      "predicted=1891211.2445576307, expected=2145996\n",
      "predicted=1925488.9710714358, expected=2188969\n",
      "predicted=1962324.3922259714, expected=2442074\n",
      "predicted=1956543.2154933622, expected=2171837\n",
      "predicted=1937852.337271131, expected=1707227\n",
      "predicted=1963095.8412994198, expected=2018411\n",
      "predicted=1947592.7512645498, expected=2128080\n",
      "predicted=1934379.1543188775, expected=2010684\n",
      "predicted=1940649.8526796778, expected=2197057\n",
      "predicted=1958409.349476892, expected=2329795\n",
      "predicted=1954432.2882804275, expected=2230809\n",
      "predicted=1942920.8634086736, expected=2038390\n",
      "predicted=1938359.4586781762, expected=1881807\n",
      "predicted=1950393.2563333688, expected=1878605\n",
      "predicted=1963324.9775937905, expected=2026714\n",
      "predicted=1961295.3940103778, expected=2099344\n",
      "predicted=1954733.633082809, expected=2184490\n",
      "predicted=1963595.8083341965, expected=2165404\n",
      "predicted=1958153.1764130064, expected=1830806\n",
      "predicted=1953514.311233968, expected=1974069\n",
      "predicted=1955715.7499787526, expected=2164705\n",
      "predicted=1961950.5331062055, expected=2098226\n",
      "predicted=1960554.315953901, expected=2060031\n",
      "predicted=1956513.0281638883, expected=2379211\n",
      "predicted=1954911.6669555206, expected=2240709\n",
      "predicted=1959136.3428816735, expected=1906493\n",
      "predicted=1963676.250652937, expected=1942109\n",
      "predicted=1962963.7297056317, expected=2028620\n",
      "predicted=1960660.1083370352, expected=2078565\n",
      "predicted=1963771.3305389248, expected=2127226\n",
      "predicted=1961860.5990548832, expected=2409232\n",
      "predicted=1960232.0439961986, expected=2230679\n",
      "predicted=1961004.8977149061, expected=1865829\n",
      "predicted=1963193.7277865144, expected=2064132\n",
      "predicted=1962703.5612439122, expected=2249267\n",
      "predicted=1961284.796218413, expected=2031333\n",
      "predicted=1960722.6102535238, expected=2296338\n",
      "predicted=1962205.756903685, expected=2343071\n",
      "predicted=1963799.5712271237, expected=2246587\n",
      "predicted=1963549.428239913, expected=1916745\n",
      "predicted=1962740.7015172492, expected=1898217\n",
      "predicted=1963832.9506902744, expected=1821441\n",
      "predicted=1963162.154858961, expected=1970972\n",
      "predicted=1962590.4220155166, expected=2297528\n",
      "predicted=1962861.7458813, expected=2305170\n",
      "predicted=1963630.1731039376, expected=2229171\n",
      "predicted=1963458.09153404, expected=1877403\n",
      "predicted=1962960.0091647133, expected=1913331\n",
      "predicted=1962762.643912285, expected=2148681\n",
      "predicted=1963283.3285812004, expected=2013384\n",
      "predicted=1963842.865079646, expected=2092186\n",
      "predicted=1963755.0479926013, expected=2698763\n",
      "predicted=1963471.1302790109, expected=2416339\n",
      "predicted=1963854.5835261783, expected=1896259\n",
      "predicted=1963619.0888734416, expected=1921650\n",
      "predicted=1963418.3720216963, expected=1828854\n",
      "predicted=1963513.6250280049, expected=1908888\n",
      "predicted=1963783.3948946334, expected=2019373\n",
      "predicted=1963722.9826385435, expected=2148336\n",
      "predicted=1963548.122078708, expected=2208392\n",
      "predicted=1963478.833541998, expected=1761826\n",
      "predicted=1963661.6290358987, expected=1887941\n",
      "predicted=1963858.0641466193, expected=1939339\n",
      "predicted=1963827.2344165395, expected=1921816\n",
      "predicted=1963727.560118867, expected=2018605\n",
      "predicted=1963862.1781129974, expected=2326344\n",
      "predicted=1963779.5035809285, expected=2294180\n",
      "predicted=1963709.0384064394, expected=1773888\n",
      "predicted=1963742.4786465177, expected=1894824\n",
      "predicted=1963837.1860941418, expected=1934280\n",
      "predicted=1963815.9773110743, expected=1962840\n",
      "predicted=1963754.58944178, expected=2169128\n",
      "predicted=1963730.2644845732, expected=2355478\n",
      "predicted=1963794.4380517728, expected=2363658\n",
      "predicted=1963863.4000459071, expected=1920258\n",
      "predicted=1963852.5767279314, expected=1933827\n",
      "predicted=1963817.5843159016, expected=2010322\n",
      "predicted=1963864.844326027, expected=2074818\n",
      "predicted=1963835.8199801517, expected=2501948\n",
      "predicted=1963811.081943596, expected=2560962\n",
      "predicted=1963822.8217269357, expected=2651586\n",
      "predicted=1963856.0704390605, expected=2055683\n",
      "predicted=1963848.6247234337, expected=2101219\n",
      "predicted=1963827.0734342234, expected=1983480\n",
      "predicted=1963818.5337309593, expected=2072670\n",
      "predicted=1963841.0629883236, expected=2155492\n",
      "predicted=1963865.2733070266, expected=2490394\n",
      "predicted=1963861.4735912425, expected=2427765\n",
      "predicted=1963849.1888906902, expected=1961472\n",
      "predicted=1963865.7803469177, expected=1948761\n",
      "predicted=1963855.5908407613, expected=1947968\n",
      "predicted=1963846.9061187399, expected=2269944\n",
      "predicted=1963851.027575779, expected=2190886\n",
      "predicted=1963862.7001198682, expected=2415690\n",
      "predicted=1963860.086170684, expected=2426897\n",
      "predicted=1963852.520212263, expected=1912097\n",
      "predicted=1963849.5221995134, expected=2066120\n",
      "predicted=1963857.4314908234, expected=2120636\n",
      "predicted=1963865.9309482283, expected=2054756\n",
      "predicted=1963864.5969912964, expected=2061972\n",
      "predicted=1963860.2842315035, expected=2512882\n",
      "predicted=1963866.1089534834, expected=2412159\n",
      "predicted=1963862.5317484655, expected=1997508\n",
      "predicted=1963859.4828243353, expected=1955604\n",
      "predicted=1963860.9297341832, expected=2029738\n",
      "predicted=1963865.027585703, expected=2103731\n",
      "predicted=1963864.1099129526, expected=2151355\n",
      "predicted=1963861.4537504248, expected=2325914\n",
      "predicted=1963860.4012454175, expected=2482278\n",
      "predicted=1963863.1779409836, expected=1802401\n",
      "predicted=1963866.1618247177, expected=2020017\n",
      "predicted=1963865.6935157184, expected=2121018\n",
      "predicted=1963864.1794456805, expected=2142687\n",
      "predicted=1963866.2243165874, expected=2165987\n",
      "predicted=1963864.9684759662, expected=2659290\n",
      "predicted=1963863.898097625, expected=2581360\n",
      "predicted=1963864.4060607282, expected=2229446\n",
      "predicted=1963865.8446834441, expected=2086801\n",
      "predicted=1963865.522518315, expected=1973148\n",
      "predicted=1963864.5900258292, expected=1950308\n",
      "predicted=1963864.2205254692, expected=2324171\n",
      "predicted=1963865.1953331938, expected=2473355\n",
      "predicted=1963866.2428779623, expected=2626661\n",
      "predicted=1963866.0784698667, expected=1953138\n",
      "predicted=1963865.5469289995, expected=2098383\n",
      "predicted=1963866.2648168302, expected=2180171\n",
      "predicted=1963865.8239319331, expected=2421656\n",
      "predicted=1963865.4481568255, expected=2457738\n",
      "predicted=1963865.6264861904, expected=2659871\n",
      "predicted=1963866.1315399504, expected=2806963\n",
      "predicted=1963866.018438226, expected=2319941\n",
      "predicted=1963865.6910703685, expected=2703143\n",
      "predicted=1963865.5613507803, expected=2866559\n",
      "predicted=1963865.9035741454, expected=3019048\n",
      "predicted=1963866.2713331266, expected=2224665\n",
      "predicted=1963866.2136147784, expected=3853078\n",
      "predicted=1963866.0270080254, expected=3271368\n",
      "predicted=1963866.2790351512, expected=2654371\n",
      "predicted=1963866.1242547682, expected=3114017\n",
      "predicted=1963865.9923323197, expected=3108412\n",
      "predicted=1963866.0549379739, expected=3024816\n",
      "predicted=1963866.2322459628, expected=3312578\n",
      "predicted=1963866.192539617, expected=3874626\n",
      "predicted=1963866.0776113835, expected=3916236\n",
      "predicted=1963866.032071045, expected=3195789\n",
      "predicted=1963866.152214565, expected=3584845\n",
      "predicted=1963866.2813228115, expected=3729781\n",
      "predicted=1963866.261059772, expected=4098574\n",
      "predicted=1963866.1955481954, expected=4340973\n",
      "predicted=1963866.2840267424, expected=4796753\n",
      "predicted=1963866.2296883718, expected=5418646\n",
      "predicted=1963866.1833746803, expected=4324990\n",
      "predicted=1963866.2053534943, expected=4889521\n",
      "predicted=1963866.2676005766, expected=5166186\n",
      "predicted=1963866.2536609669, expected=5098390\n",
      "predicted=1963866.2133133928, expected=5519922\n",
      "predicted=1963866.1973256574, expected=6563464\n",
      "predicted=1963866.2395041492, expected=7753421\n",
      "predicted=1963866.2848298657, expected=6602519\n",
      "predicted=1963866.27771617, expected=7607816\n",
      "predicted=1963866.254717181, expected=8359921\n",
      "predicted=1963866.285779128, expected=9323120\n",
      "predicted=1963866.266702689, expected=10437773\n",
      "predicted=1963866.2504434546, expected=12072154\n",
      "predicted=1963866.258159503, expected=12748304\n",
      "predicted=1963866.280012434, expected=12760109\n",
      "predicted=1963866.2751186893, expected=13649296\n",
      "predicted=1963866.2609539651, expected=3710950\n",
      "predicted=1963866.25534119, expected=4979283\n",
      "predicted=1963866.2701486899, expected=5070313\n",
      "predicted=1963866.2860610783, expected=4838417\n",
      "predicted=1963866.2835636905, expected=4397841\n",
      "predicted=1963866.2754894916, expected=3736114\n",
      "predicted=1963866.2863943335, expected=3849566\n",
      "predicted=1963866.2796972147, expected=2696421\n",
      "predicted=1963866.273989125, expected=3305187\n",
      "predicted=1963866.2766979793, expected=3313575\n",
      "predicted=1963866.2843698345, expected=3393393\n",
      "predicted=1963866.2826517995, expected=3486347\n",
      "predicted=1963866.2776790245, expected=2841354\n",
      "predicted=1963866.2757085613, expected=2685121\n",
      "predicted=1963866.2809069941, expected=2576995\n",
      "predicted=1963866.2864933175, expected=2779706\n",
      "predicted=1963866.2856165657, expected=2768156\n",
      "predicted=1963866.2827819765, expected=2919437\n",
      "predicted=1963866.2866103128, expected=2967700\n",
      "predicted=1963866.2842591717, expected=2386460\n",
      "predicted=1963866.2822552465, expected=2409541\n",
      "predicted=1963866.2832062375, expected=2560834\n",
      "predicted=1963866.285899577, expected=2463917\n",
      "predicted=1963866.2852964306, expected=2559570\n",
      "predicted=1963866.2835506506, expected=2907130\n",
      "predicted=1963866.282858885, expected=2793289\n",
      "predicted=1963866.284683886, expected=2194069\n",
      "predicted=1963866.286645063, expected=2317147\n",
      "predicted=1963866.2863372639, expected=2278594\n",
      "predicted=1963866.2853421315, expected=2252720\n",
      "predicted=1963866.2866861362, expected=2245333\n",
      "predicted=1963866.2858607268, expected=2825642\n",
      "predicted=1963866.2851572137, expected=2711801\n",
      "predicted=1963866.2854910758, expected=2210420\n",
      "predicted=1963866.28643662, expected=2199575\n",
      "predicted=1963866.286224875, expected=2413069\n",
      "predicted=1963866.2856119883, expected=2325280\n",
      "predicted=1963866.2853691317, expected=2539320\n",
      "predicted=1963866.2860098304, expected=3043978\n",
      "predicted=1963866.286698336, expected=3111754\n",
      "predicted=1963866.2865902777, expected=2472929\n",
      "predicted=1963866.286240919, expected=2202130\n",
      "predicted=1963866.2867127554, expected=2299196\n",
      "predicted=1963866.286422981, expected=2376409\n",
      "predicted=1963866.2861760003, expected=2369253\n",
      "predicted=1963866.2862932084, expected=2865188\n",
      "predicted=1963866.2866251583, expected=2953968\n",
      "predicted=1963866.2865508215, expected=2360693\n",
      "predicted=1963866.286335657, expected=2418140\n",
      "predicted=1963866.2862503978, expected=2430951\n",
      "predicted=1963866.2864753264, expected=3102154\n",
      "predicted=1963866.2867170384, expected=3214791\n",
      "predicted=1963866.2866791026, expected=2768317\n",
      "predicted=1963866.2865564541, expected=2784936\n",
      "predicted=1963866.2867221006, expected=2188415\n",
      "predicted=1963866.28662037, expected=2112450\n",
      "predicted=1963866.2865336633, expected=2144405\n",
      "predicted=1963866.2865748112, expected=2116794\n",
      "predicted=1963866.286691348, expected=2197621\n",
      "predicted=1963866.2866652508, expected=2466717\n",
      "predicted=1963866.2865897135, expected=2617258\n",
      "predicted=1963866.2865597818, expected=1928743\n",
      "predicted=1963866.286638747, expected=2076355\n",
      "predicted=1963866.2867236042, expected=2085651\n",
      "predicted=1963866.2867102863, expected=2126936\n",
      "predicted=1963866.2866672284, expected=2470889\n",
      "predicted=1963866.2867253816, expected=2856516\n",
      "predicted=1963866.2866896673, expected=2829287\n",
      "predicted=1963866.2866592272, expected=2180124\n",
      "predicted=1963866.286673673, expected=2164959\n",
      "predicted=1963866.2867145853, expected=2117200\n",
      "predicted=1963866.2867054234, expected=2048795\n",
      "predicted=1963866.2866789047, expected=2277250\n",
      "predicted=1963866.2866683966, expected=2526106\n",
      "predicted=1963866.2866961185, expected=2483209\n",
      "predicted=1963866.2867259092, expected=1947709\n",
      "predicted=1963866.2867212337, expected=2101293\n",
      "predicted=1963866.2867061174, expected=2138016\n",
      "predicted=1963866.2867265332, expected=2084252\n",
      "predicted=1963866.286713995, expected=2369890\n",
      "predicted=1963866.2867033086, expected=2605507\n",
      "predicted=1963866.28670838, expected=2674992\n",
      "predicted=1963866.2867227432, expected=2084108\n",
      "predicted=1963866.2867195266, expected=2102903\n",
      "predicted=1963866.2867102167, expected=2060113\n",
      "predicted=1963866.2867065277, expected=2138655\n",
      "predicted=1963866.28671626, expected=2141433\n",
      "predicted=1963866.2867267185, expected=2468536\n",
      "predicted=1963866.286725077, expected=2499369\n",
      "predicted=1963866.2867197702, expected=2024515\n",
      "predicted=1963866.2867269374, expected=2155407\n",
      "predicted=1963866.2867225357, expected=2117926\n",
      "predicted=1963866.2867187841, expected=2157121\n",
      "predicted=1963866.2867205646, expected=2257010\n",
      "predicted=1963866.286725607, expected=2627222\n",
      "predicted=1963866.2867244778, expected=2635827\n",
      "predicted=1963866.2867212093, expected=2146097\n",
      "predicted=1963866.2867199143, expected=2227783\n",
      "predicted=1963866.286723331, expected=2158386\n",
      "predicted=1963866.2867270028, expected=2138636\n",
      "predicted=1963866.2867264266, expected=2221080\n",
      "predicted=1963866.2867245635, expected=2603772\n",
      "predicted=1963866.2867270797, expected=2508555\n",
      "predicted=1963866.2867255344, expected=2033685\n",
      "predicted=1963866.2867242172, expected=2196559\n",
      "predicted=1963866.2867248424, expected=2151842\n",
      "predicted=1963866.2867266126, expected=2198283\n",
      "predicted=1963866.286726216, expected=2207053\n",
      "predicted=1963866.2867250687, expected=2622152\n",
      "predicted=1963866.286724614, expected=2687554\n",
      "predicted=1963866.2867258135, expected=2182480\n",
      "predicted=1963866.2867271025, expected=2472397\n",
      "predicted=1963866.2867269001, expected=2428608\n",
      "predicted=1963866.2867262461, expected=2616037\n",
      "predicted=1963866.2867271295, expected=2876610\n",
      "predicted=1963866.286726587, expected=3370843\n",
      "predicted=1963866.2867261246, expected=4226356\n",
      "predicted=1963866.286726344, expected=1975356\n",
      "predicted=1963866.2867269653, expected=2286434\n",
      "predicted=1963866.286726826, expected=2396298\n",
      "predicted=1963866.2867264233, expected=2310618\n",
      "predicted=1963866.2867262636, expected=2289200\n",
      "predicted=1963866.2867266848, expected=2547255\n",
      "predicted=1963866.2867271374, expected=2517118\n",
      "predicted=1963866.2867270664, expected=2065311\n",
      "predicted=1963866.2867268368, expected=2185202\n",
      "predicted=1963866.286727147, expected=2454599\n",
      "predicted=1963866.2867269565, expected=2302923\n",
      "predicted=1963866.2867267942, expected=2551008\n",
      "predicted=1963866.2867268713, expected=2864969\n",
      "predicted=1963866.2867270894, expected=2806104\n",
      "predicted=1963866.2867270405, expected=2387306\n",
      "predicted=1963866.2867268992, expected=2548577\n",
      "predicted=1963866.286726843, expected=2591226\n",
      "predicted=1963866.286726991, expected=2694666\n",
      "predicted=1963866.2867271497, expected=3100783\n",
      "predicted=1963866.2867271248, expected=3379862\n",
      "predicted=1963866.2867270443, expected=3970973\n",
      "predicted=1963866.2867271532, expected=2972769\n",
      "predicted=1963866.2867270864, expected=2268970\n",
      "predicted=1963866.2867270294, expected=2236793\n",
      "predicted=1963866.2867270564, expected=2274634\n",
      "predicted=1963866.286727133, expected=2418213\n",
      "predicted=1963866.2867271157, expected=2705694\n",
      "predicted=1963866.2867270662, expected=2709913\n",
      "predicted=1963866.2867270466, expected=2165850\n",
      "predicted=1963866.2867270985, expected=2269911\n",
      "predicted=1963866.2867271544, expected=2328758\n",
      "predicted=1963866.2867271455, expected=2429337\n",
      "predicted=1963866.2867271171, expected=2489602\n",
      "predicted=1963866.2867271553, expected=2814836\n",
      "predicted=1963866.2867271318, expected=2588421\n",
      "predicted=1963866.2867271118, expected=2146586\n",
      "predicted=1963866.2867271213, expected=2161313\n",
      "predicted=1963866.286727148, expected=2219457\n",
      "predicted=1963866.286727142, expected=2450056\n",
      "predicted=1963866.2867271246, expected=2591701\n",
      "predicted=1963866.2867271176, expected=2974574\n",
      "predicted=1963866.2867271358, expected=2951831\n",
      "predicted=1963866.2867271553, expected=2393530\n",
      "predicted=1963866.2867271523, expected=2609592\n",
      "predicted=1963866.2867271423, expected=2575087\n",
      "predicted=1963866.2867271558, expected=2538631\n",
      "predicted=1963866.2867271476, expected=2693643\n",
      "predicted=1963866.2867271407, expected=2915205\n",
      "predicted=1963866.286727144, expected=2891697\n",
      "predicted=1963866.2867271535, expected=2374784\n",
      "predicted=1963866.2867271514, expected=2592799\n",
      "predicted=1963866.2867271453, expected=2756505\n",
      "predicted=1963866.286727143, expected=3074717\n",
      "predicted=1963866.2867271493, expected=2960619\n",
      "predicted=1963866.2867271563, expected=3478215\n",
      "predicted=1963866.286727155, expected=4032156\n",
      "predicted=1963866.2867271516, expected=3311886\n",
      "predicted=1963866.2867271563, expected=2512243\n",
      "predicted=1963866.2867271535, expected=2560607\n",
      "predicted=1963866.286727151, expected=2452233\n",
      "predicted=1963866.286727152, expected=2591246\n",
      "predicted=1963866.2867271553, expected=2976475\n",
      "predicted=1963866.2867271546, expected=2747653\n",
      "predicted=1963866.2867271525, expected=2159333\n",
      "predicted=1963866.2867271516, expected=2668720\n",
      "predicted=1963866.286727154, expected=2527256\n",
      "predicted=1963866.2867271563, expected=2666876\n",
      "predicted=1963866.2867271558, expected=2655708\n",
      "predicted=1963866.2867271546, expected=2889752\n",
      "predicted=1963866.2867271563, expected=2655321\n",
      "predicted=1963866.2867271553, expected=2279690\n",
      "predicted=1963866.2867271544, expected=2438360\n",
      "predicted=1963866.2867271549, expected=2495127\n",
      "predicted=1963866.286727156, expected=2531195\n",
      "predicted=1963866.2867271558, expected=2174217\n",
      "predicted=1963866.286727155, expected=2530250\n",
      "predicted=1963866.2867271549, expected=2510980\n",
      "predicted=1963866.2867271556, expected=2032842\n",
      "predicted=1963866.2867271565, expected=2291760\n"
     ]
    },
    {
     "ename": "KeyError",
     "evalue": "1285",
     "output_type": "error",
     "traceback": [
      "\u001b[1;31m---------------------------------------------------------------------------\u001b[0m",
      "\u001b[1;31mValueError\u001b[0m                                Traceback (most recent call last)",
      "\u001b[1;32m~\\Anaconda3\\lib\\site-packages\\pandas\\core\\indexes\\range.py\u001b[0m in \u001b[0;36mget_loc\u001b[1;34m(self, key, method, tolerance)\u001b[0m\n\u001b[0;32m    354\u001b[0m                 \u001b[1;32mtry\u001b[0m\u001b[1;33m:\u001b[0m\u001b[1;33m\u001b[0m\u001b[1;33m\u001b[0m\u001b[0m\n\u001b[1;32m--> 355\u001b[1;33m                     \u001b[1;32mreturn\u001b[0m \u001b[0mself\u001b[0m\u001b[1;33m.\u001b[0m\u001b[0m_range\u001b[0m\u001b[1;33m.\u001b[0m\u001b[0mindex\u001b[0m\u001b[1;33m(\u001b[0m\u001b[0mnew_key\u001b[0m\u001b[1;33m)\u001b[0m\u001b[1;33m\u001b[0m\u001b[1;33m\u001b[0m\u001b[0m\n\u001b[0m\u001b[0;32m    356\u001b[0m                 \u001b[1;32mexcept\u001b[0m \u001b[0mValueError\u001b[0m \u001b[1;32mas\u001b[0m \u001b[0merr\u001b[0m\u001b[1;33m:\u001b[0m\u001b[1;33m\u001b[0m\u001b[1;33m\u001b[0m\u001b[0m\n",
      "\u001b[1;31mValueError\u001b[0m: 1285 is not in range",
      "\nThe above exception was the direct cause of the following exception:\n",
      "\u001b[1;31mKeyError\u001b[0m                                  Traceback (most recent call last)",
      "\u001b[1;32m<ipython-input-126-f0e39ce1bc59>\u001b[0m in \u001b[0;36m<module>\u001b[1;34m\u001b[0m\n\u001b[0;32m      1\u001b[0m \u001b[1;31m# Compare predictions to expected values\u001b[0m\u001b[1;33m\u001b[0m\u001b[1;33m\u001b[0m\u001b[1;33m\u001b[0m\u001b[0m\n\u001b[0;32m      2\u001b[0m \u001b[1;32mfor\u001b[0m \u001b[0mi\u001b[0m \u001b[1;32min\u001b[0m \u001b[0mrange\u001b[0m\u001b[1;33m(\u001b[0m\u001b[1;36m920\u001b[0m\u001b[1;33m+\u001b[0m\u001b[0mlen\u001b[0m\u001b[1;33m(\u001b[0m\u001b[0mpredictions\u001b[0m\u001b[1;33m)\u001b[0m\u001b[1;33m)\u001b[0m\u001b[1;33m:\u001b[0m\u001b[1;33m\u001b[0m\u001b[1;33m\u001b[0m\u001b[0m\n\u001b[1;32m----> 3\u001b[1;33m     \u001b[0mprint\u001b[0m\u001b[1;33m(\u001b[0m\u001b[1;34mf\"predicted={predictions[920+i]}, expected={test['Count'][920+i]}\"\u001b[0m\u001b[1;33m)\u001b[0m\u001b[1;33m\u001b[0m\u001b[1;33m\u001b[0m\u001b[0m\n\u001b[0m",
      "\u001b[1;32m~\\Anaconda3\\lib\\site-packages\\pandas\\core\\series.py\u001b[0m in \u001b[0;36m__getitem__\u001b[1;34m(self, key)\u001b[0m\n\u001b[0;32m    880\u001b[0m \u001b[1;33m\u001b[0m\u001b[0m\n\u001b[0;32m    881\u001b[0m         \u001b[1;32melif\u001b[0m \u001b[0mkey_is_scalar\u001b[0m\u001b[1;33m:\u001b[0m\u001b[1;33m\u001b[0m\u001b[1;33m\u001b[0m\u001b[0m\n\u001b[1;32m--> 882\u001b[1;33m             \u001b[1;32mreturn\u001b[0m \u001b[0mself\u001b[0m\u001b[1;33m.\u001b[0m\u001b[0m_get_value\u001b[0m\u001b[1;33m(\u001b[0m\u001b[0mkey\u001b[0m\u001b[1;33m)\u001b[0m\u001b[1;33m\u001b[0m\u001b[1;33m\u001b[0m\u001b[0m\n\u001b[0m\u001b[0;32m    883\u001b[0m \u001b[1;33m\u001b[0m\u001b[0m\n\u001b[0;32m    884\u001b[0m         \u001b[1;32mif\u001b[0m \u001b[0mis_hashable\u001b[0m\u001b[1;33m(\u001b[0m\u001b[0mkey\u001b[0m\u001b[1;33m)\u001b[0m\u001b[1;33m:\u001b[0m\u001b[1;33m\u001b[0m\u001b[1;33m\u001b[0m\u001b[0m\n",
      "\u001b[1;32m~\\Anaconda3\\lib\\site-packages\\pandas\\core\\series.py\u001b[0m in \u001b[0;36m_get_value\u001b[1;34m(self, label, takeable)\u001b[0m\n\u001b[0;32m    987\u001b[0m \u001b[1;33m\u001b[0m\u001b[0m\n\u001b[0;32m    988\u001b[0m         \u001b[1;31m# Similar to Index.get_value, but we do not fall back to positional\u001b[0m\u001b[1;33m\u001b[0m\u001b[1;33m\u001b[0m\u001b[1;33m\u001b[0m\u001b[0m\n\u001b[1;32m--> 989\u001b[1;33m         \u001b[0mloc\u001b[0m \u001b[1;33m=\u001b[0m \u001b[0mself\u001b[0m\u001b[1;33m.\u001b[0m\u001b[0mindex\u001b[0m\u001b[1;33m.\u001b[0m\u001b[0mget_loc\u001b[0m\u001b[1;33m(\u001b[0m\u001b[0mlabel\u001b[0m\u001b[1;33m)\u001b[0m\u001b[1;33m\u001b[0m\u001b[1;33m\u001b[0m\u001b[0m\n\u001b[0m\u001b[0;32m    990\u001b[0m         \u001b[1;32mreturn\u001b[0m \u001b[0mself\u001b[0m\u001b[1;33m.\u001b[0m\u001b[0mindex\u001b[0m\u001b[1;33m.\u001b[0m\u001b[0m_get_values_for_loc\u001b[0m\u001b[1;33m(\u001b[0m\u001b[0mself\u001b[0m\u001b[1;33m,\u001b[0m \u001b[0mloc\u001b[0m\u001b[1;33m,\u001b[0m \u001b[0mlabel\u001b[0m\u001b[1;33m)\u001b[0m\u001b[1;33m\u001b[0m\u001b[1;33m\u001b[0m\u001b[0m\n\u001b[0;32m    991\u001b[0m \u001b[1;33m\u001b[0m\u001b[0m\n",
      "\u001b[1;32m~\\Anaconda3\\lib\\site-packages\\pandas\\core\\indexes\\range.py\u001b[0m in \u001b[0;36mget_loc\u001b[1;34m(self, key, method, tolerance)\u001b[0m\n\u001b[0;32m    355\u001b[0m                     \u001b[1;32mreturn\u001b[0m \u001b[0mself\u001b[0m\u001b[1;33m.\u001b[0m\u001b[0m_range\u001b[0m\u001b[1;33m.\u001b[0m\u001b[0mindex\u001b[0m\u001b[1;33m(\u001b[0m\u001b[0mnew_key\u001b[0m\u001b[1;33m)\u001b[0m\u001b[1;33m\u001b[0m\u001b[1;33m\u001b[0m\u001b[0m\n\u001b[0;32m    356\u001b[0m                 \u001b[1;32mexcept\u001b[0m \u001b[0mValueError\u001b[0m \u001b[1;32mas\u001b[0m \u001b[0merr\u001b[0m\u001b[1;33m:\u001b[0m\u001b[1;33m\u001b[0m\u001b[1;33m\u001b[0m\u001b[0m\n\u001b[1;32m--> 357\u001b[1;33m                     \u001b[1;32mraise\u001b[0m \u001b[0mKeyError\u001b[0m\u001b[1;33m(\u001b[0m\u001b[0mkey\u001b[0m\u001b[1;33m)\u001b[0m \u001b[1;32mfrom\u001b[0m \u001b[0merr\u001b[0m\u001b[1;33m\u001b[0m\u001b[1;33m\u001b[0m\u001b[0m\n\u001b[0m\u001b[0;32m    358\u001b[0m             \u001b[1;32mraise\u001b[0m \u001b[0mKeyError\u001b[0m\u001b[1;33m(\u001b[0m\u001b[0mkey\u001b[0m\u001b[1;33m)\u001b[0m\u001b[1;33m\u001b[0m\u001b[1;33m\u001b[0m\u001b[0m\n\u001b[0;32m    359\u001b[0m         \u001b[1;32mreturn\u001b[0m \u001b[0msuper\u001b[0m\u001b[1;33m(\u001b[0m\u001b[1;33m)\u001b[0m\u001b[1;33m.\u001b[0m\u001b[0mget_loc\u001b[0m\u001b[1;33m(\u001b[0m\u001b[0mkey\u001b[0m\u001b[1;33m,\u001b[0m \u001b[0mmethod\u001b[0m\u001b[1;33m=\u001b[0m\u001b[0mmethod\u001b[0m\u001b[1;33m,\u001b[0m \u001b[0mtolerance\u001b[0m\u001b[1;33m=\u001b[0m\u001b[0mtolerance\u001b[0m\u001b[1;33m)\u001b[0m\u001b[1;33m\u001b[0m\u001b[1;33m\u001b[0m\u001b[0m\n",
      "\u001b[1;31mKeyError\u001b[0m: 1285"
     ]
    }
   ],
   "source": [
    "# Compare predictions to expected values\n",
    "for i in range(920+len(predictions)):\n",
    "    print(f\"predicted={predictions[920+i]}, expected={test['Count'][920+i]}\")"
   ]
  },
  {
   "cell_type": "code",
   "execution_count": 142,
   "metadata": {},
   "outputs": [
    {
     "data": {
      "image/png": "[encoded data removed]",
      "text/plain": [
       "<Figure size 864x432 with 1 Axes>"
      ]
     },
     "metadata": {
      "needs_background": "light"
     },
     "output_type": "display_data"
    }
   ],
   "source": [
    "# Plot predictions against known values\n",
    "title = 'Monthly view-Transaction'\n",
    "ylabel='Count'\n",
    "xlabel=''\n",
    "\n",
    "ax = test['Count'].plot(legend=True,figsize=(12,6),title=title)\n",
    "predictions.plot(legend=True)\n",
    "ax.autoscale(axis='x',tight=True)\n",
    "ax.set(xlabel=xlabel, ylabel=ylabel);"
   ]
  },
  {
   "cell_type": "code",
   "execution_count": 152,
   "metadata": {},
   "outputs": [
    {
     "data": {
      "text/html": [
       "<div>\n",
       "<style scoped>\n",
       "    .dataframe tbody tr th:only-of-type {\n",
       "        vertical-align: middle;\n",
       "    }\n",
       "\n",
       "    .dataframe tbody tr th {\n",
       "        vertical-align: top;\n",
       "    }\n",
       "\n",
       "    .dataframe thead th {\n",
       "        text-align: right;\n",
       "    }\n",
       "</style>\n",
       "<table border=\"1\" class=\"dataframe\">\n",
       "  <thead>\n",
       "    <tr style=\"text-align: right;\">\n",
       "      <th></th>\n",
       "      <th>Count</th>\n",
       "    </tr>\n",
       "    <tr>\n",
       "      <th>Date</th>\n",
       "      <th></th>\n",
       "    </tr>\n",
       "  </thead>\n",
       "  <tbody>\n",
       "    <tr>\n",
       "      <th>2016-01-01</th>\n",
       "      <td>2093576</td>\n",
       "    </tr>\n",
       "    <tr>\n",
       "      <th>2016-02-01</th>\n",
       "      <td>2397260</td>\n",
       "    </tr>\n",
       "    <tr>\n",
       "      <th>2016-03-01</th>\n",
       "      <td>2173039</td>\n",
       "    </tr>\n",
       "    <tr>\n",
       "      <th>2016-04-01</th>\n",
       "      <td>2051240</td>\n",
       "    </tr>\n",
       "    <tr>\n",
       "      <th>2016-05-01</th>\n",
       "      <td>1954117</td>\n",
       "    </tr>\n",
       "  </tbody>\n",
       "</table>\n",
       "</div>"
      ],
      "text/plain": [
       "              Count\n",
       "Date               \n",
       "2016-01-01  2093576\n",
       "2016-02-01  2397260\n",
       "2016-03-01  2173039\n",
       "2016-04-01  2051240\n",
       "2016-05-01  1954117"
      ]
     },
     "execution_count": 152,
     "metadata": {},
     "output_type": "execute_result"
    }
   ],
   "source": [
    "df.head()"
   ]
  },
  {
   "cell_type": "markdown",
   "metadata": {},
   "source": [
    "### Evaluate the Model"
   ]
  },
  {
   "cell_type": "code",
   "execution_count": 153,
   "metadata": {},
   "outputs": [
    {
     "name": "stdout",
     "output_type": "stream",
     "text": [
      "SARIMA(0,1,3)(1,0,1,12) MSE Error: 2.72483081e+12\n"
     ]
    }
   ],
   "source": [
    "from sklearn.metrics import mean_squared_error\n",
    "\n",
    "error = mean_squared_error(test['Count'], predictions)\n",
    "print(f'SARIMA(0,1,3)(1,0,1,12) MSE Error: {error:11.10}')"
   ]
  },
  {
   "cell_type": "code",
   "execution_count": 155,
   "metadata": {},
   "outputs": [
    {
     "name": "stdout",
     "output_type": "stream",
     "text": [
      "SARIMA(0,1,3)(1,0,1,12) RMSE Error: 1650706.155\n"
     ]
    }
   ],
   "source": [
    "from statsmodels.tools.eval_measures import rmse\n",
    "\n",
    "error = rmse(test['Count'], predictions)\n",
    "print(f'SARIMA(0,1,3)(1,0,1,12) RMSE Error: {error:11.10}')"
   ]
  },
  {
   "cell_type": "code",
   "execution_count": 166,
   "metadata": {},
   "outputs": [
    {
     "data": {
      "text/plain": [
       "48"
      ]
     },
     "execution_count": 166,
     "metadata": {},
     "output_type": "execute_result"
    }
   ],
   "source": [
    "len(transactions)"
   ]
  },
  {
   "cell_type": "markdown",
   "metadata": {},
   "source": [
    "These are outstanding results!\n",
    "### Retrain the model on the full data, and forecast the future"
   ]
  },
  {
   "cell_type": "code",
   "execution_count": 185,
   "metadata": {},
   "outputs": [],
   "source": [
    "model = SARIMAX(transactions['Count'],order=(0,1,3),seasonal_order=(1,0,1,12))\n",
    "results = model.fit()\n",
    "fcast = results.predict(len(transactions),len(transactions)+11,type='levels').rename('SARIMA(0,1,3)(1,0,1,12) Forecast')"
   ]
  },
  {
   "cell_type": "code",
   "execution_count": null,
   "metadata": {},
   "outputs": [],
   "source": []
  },
  {
   "cell_type": "code",
   "execution_count": null,
   "metadata": {},
   "outputs": [],
   "source": []
  },
  {
   "cell_type": "code",
   "execution_count": 186,
   "metadata": {},
   "outputs": [
    {
     "data": {
      "image/png": "[encoded data removed]",
      "text/plain": [
       "<Figure size 864x432 with 1 Axes>"
      ]
     },
     "metadata": {
      "needs_background": "light"
     },
     "output_type": "display_data"
    }
   ],
   "source": [
    "# Plot predictions against known values\n",
    "title = 'Monthly -Transactions'\n",
    "ylabel='Count'\n",
    "xlabel=''\n",
    "\n",
    "ax =  transactions['Count'].plot(legend=True,figsize=(12,6),title=title)\n",
    "fcast.plot(legend=True)\n",
    "ax.autoscale(axis='x',tight=True)\n",
    "ax.set(xlabel=xlabel, ylabel=ylabel);"
   ]
  },
  {
   "cell_type": "code",
   "execution_count": 192,
   "metadata": {},
   "outputs": [
    {
     "data": {
      "text/plain": [
       "-11244071.392684063"
      ]
     },
     "execution_count": 192,
     "metadata": {},
     "output_type": "execute_result"
    }
   ],
   "source": [
    "fcast['2020-01-01']"
   ]
  },
  {
   "cell_type": "code",
   "execution_count": null,
   "metadata": {},
   "outputs": [],
   "source": []
  },
  {
   "cell_type": "code",
   "execution_count": null,
   "metadata": {},
   "outputs": [],
   "source": []
  }
 ],
 "metadata": {
  "kernelspec": {
   "display_name": "Python 3",
   "language": "python",
   "name": "python3"
  },
  "language_info": {
   "codemirror_mode": {
    "name": "ipython",
    "version": 3
   },
   "file_extension": ".py",
   "mimetype": "text/x-python",
   "name": "python",
   "nbconvert_exporter": "python",
   "pygments_lexer": "ipython3",
   "version": "3.8.5"
  }
 },
 "nbformat": 4,
 "nbformat_minor": 4
}
